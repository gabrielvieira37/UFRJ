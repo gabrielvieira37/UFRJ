{
 "cells": [
  {
   "cell_type": "code",
   "execution_count": 1,
   "metadata": {},
   "outputs": [],
   "source": [
    "import numpy as np\n",
    "from numpy.linalg import norm\n",
    "from numpy.linalg import qr\n",
    "from numpy.linalg import eig\n",
    "\n",
    "\n",
    "\n",
    "def qrDecomposition(matrix):\n",
    "    matrix = np.array(matrix)\n",
    "    qM = np.zeros(matrix.shape)\n",
    "    \n",
    "    for i in range(matrix.shape[1]):\n",
    "        # a é a coluna de A\n",
    "        a = matrix[:,i]\n",
    "        w = np.copy(a)\n",
    "        for s in range(qM.shape[1]):            \n",
    "            w -= (qM[:,s].dot(a))*qM[:,s]       \n",
    "        q = w/norm(w)\n",
    "        qM[:,i] = q\n",
    "        \n",
    "#     print(\"\\n Q :\\n\",qM)\n",
    "#     print(\"\\n Identity: \\n\", qM.T.dot(qM))\n",
    "\n",
    "#     verificando se os vetores são ortogonais entre si\n",
    "#     print(\"\\n zero ?: \", qM[:,0].dot(qM[:,1]))\n",
    "#     print(\"\\n zero ?: \", qM[:,1].dot(qM[:,2]))\n",
    "#     print(\"\\n zero ?: \", qM[:,0].dot(qM[:,2]))\n",
    "    \n",
    "    rM = qM.T.dot(matrix)\n",
    "            \n",
    "    \n",
    "#     print(\"\\n q.T.dot*A: \\n\", qM.T.dot(matrix))\n",
    "\n",
    "    \n",
    "#     print(\"\\n QR: \\n\", qM.dot(rM) )\n",
    "    \n",
    "    return qM, rM\n",
    "\n",
    "\n",
    "def qrAlgorithm(q,r):\n",
    "    A = r.dot(q)\n",
    "    \n",
    "    for i in range(100):\n",
    "        \n",
    "        q,r = qrDecomposition(A)\n",
    "        A = r.dot(q)\n",
    "#         print(\"\\n\", np.diag(r))\n",
    "    return np.diag(r)   \n",
    "    "
   ]
  },
  {
   "cell_type": "code",
   "execution_count": 2,
   "metadata": {},
   "outputs": [
    {
     "name": "stdout",
     "output_type": "stream",
     "text": [
      "\n",
      " A:\n",
      " [[ 0.13367596  0.98513102  0.84594807]\n",
      " [ 0.86706716  0.37392732  0.6368964 ]\n",
      " [ 0.34046109  0.28064583  0.71247776]]\n",
      "\n",
      "numpy Q: \n",
      " [[-0.14204872  0.98073712 -0.13407785]\n",
      " [-0.92137571 -0.18050885 -0.34421411]\n",
      " [-0.36178579  0.0746409   0.92926841]]\n",
      "numpy R: \n",
      " [[-0.94105711 -0.58599782 -0.96475104]\n",
      " [ 0.          0.91960503  0.76786721]\n",
      " [ 0.          0.          0.32943145]]\n",
      "numpy QR: \n",
      " [[ 0.13367596  0.98513102  0.84594807]\n",
      " [ 0.86706716  0.37392732  0.6368964 ]\n",
      " [ 0.34046109  0.28064583  0.71247776]]\n",
      "\n",
      "Nossa Q: \n",
      " [[ 0.14204872  0.98073712 -0.13407785]\n",
      " [ 0.92137571 -0.18050885 -0.34421411]\n",
      " [ 0.36178579  0.0746409   0.92926841]]\n",
      "Nossa R: \n",
      " [[  9.41057105e-01   5.85997823e-01   9.64751044e-01]\n",
      " [ -3.81639165e-17   9.19605028e-01   7.67867215e-01]\n",
      " [ -4.99600361e-16  -5.55111512e-17   3.29431452e-01]]\n",
      "Nossa QR: \n",
      " [[ 0.13367596  0.98513102  0.84594807]\n",
      " [ 0.86706716  0.37392732  0.6368964 ]\n",
      " [ 0.34046109  0.28064583  0.71247776]]\n"
     ]
    }
   ],
   "source": [
    "#np.random.seed(0)\n",
    "#np.random.seed(1234)\n",
    "A = np.random.rand(3,3)\n",
    "#A = np.array([[1,1,0],[0,1,2],[1,0,-1],[0,1,3]],dtype='float64')\n",
    "print(\"\\n A:\\n\",A)\n",
    "\n",
    "qMatrix,rMatrix = qrDecomposition(A)\n",
    "\n",
    "\n",
    "\n",
    "q,r = qr(A)\n",
    "print(\"\\nnumpy Q: \\n\",q)\n",
    "print(\"numpy R: \\n\",r)\n",
    "print(\"numpy QR: \\n\",q.dot(r))\n",
    "\n",
    "print(\"\\nNossa Q: \\n\", qMatrix)\n",
    "print(\"Nossa R: \\n\", rMatrix)\n",
    "print(\"Nossa QR: \\n\", qMatrix.dot(rMatrix))"
   ]
  },
  {
   "cell_type": "code",
   "execution_count": 3,
   "metadata": {},
   "outputs": [
    {
     "name": "stdout",
     "output_type": "stream",
     "text": [
      "numpy eigValues: \n",
      " [ 1.66364028 -0.69140876  0.24784952]\n",
      "nossos eigValues: \n",
      " [ 1.66364028  0.69140876  0.24784952]\n"
     ]
    }
   ],
   "source": [
    "eigenValues = qrAlgorithm(q,r)\n",
    "\n",
    "\n",
    "values, vectors = eig(A)\n",
    "\n",
    "print(\"numpy eigValues: \\n\", values)\n",
    "print(\"nossos eigValues: \\n\",eigenValues)"
   ]
  },
  {
   "cell_type": "code",
   "execution_count": null,
   "metadata": {
    "collapsed": true
   },
   "outputs": [],
   "source": []
  }
 ],
 "metadata": {
  "kernelspec": {
   "display_name": "Python 3",
   "language": "python",
   "name": "python3"
  },
  "language_info": {
   "codemirror_mode": {
    "name": "ipython",
    "version": 3
   },
   "file_extension": ".py",
   "mimetype": "text/x-python",
   "name": "python",
   "nbconvert_exporter": "python",
   "pygments_lexer": "ipython3",
   "version": "3.6.1"
  }
 },
 "nbformat": 4,
 "nbformat_minor": 2
}
